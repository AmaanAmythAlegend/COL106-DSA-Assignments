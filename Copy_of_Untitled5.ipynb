{
  "cells": [
    {
      "cell_type": "markdown",
      "metadata": {
        "id": "view-in-github",
        "colab_type": "text"
      },
      "source": [
        "<a href=\"https://colab.research.google.com/github/gingerpresser/COL106-DSA-Assignments/blob/main/Copy_of_Untitled5.ipynb\" target=\"_parent\"><img src=\"https://colab.research.google.com/assets/colab-badge.svg\" alt=\"Open In Colab\"/></a>"
      ]
    },
    {
      "cell_type": "code",
      "execution_count": 2,
      "metadata": {
        "id": "KHovjC-rfuKq"
      },
      "outputs": [],
      "source": [
        "from matplotlib import pyplot as plt\n",
        "import string\n",
        "import random"
      ]
    },
    {
      "cell_type": "code",
      "execution_count": 5,
      "metadata": {
        "colab": {
          "base_uri": "https://localhost:8080/",
          "height": 482
        },
        "id": "xzTqsg0qf9TR",
        "outputId": "7eaa76b0-3474-454c-b05e-3867ba9cfad2"
      },
      "outputs": [
        {
          "output_type": "stream",
          "name": "stdout",
          "text": [
            "55420\n",
            "237584\n",
            "5\n"
          ]
        },
        {
          "output_type": "display_data",
          "data": {
            "text/plain": [
              "<Figure size 640x480 with 1 Axes>"
            ],
            "image/png": "[encoded data removed]"
          },
          "metadata": {}
        }
      ],
      "source": [
        "def hash(id):\n",
        "  l = 0\n",
        "  n = [1, 41, 1681, 68921, 125698, 53499, 93410, 229726, 118549, 60397]\n",
        "  for j in range(len(id)):\n",
        "    l = l + n[j%10]*ord(id[j])\n",
        "  l = l%300007\n",
        "  return l;\n",
        "\n",
        "lis = []\n",
        "for i in range(70000):\n",
        "  res = \"\"\n",
        "  res = ''.join(random.choices(string.ascii_uppercase, k = 4))\n",
        "  res+=''.join(random.choices(string.digits, k = 7))\n",
        "  res+=\"_\"\n",
        "  res+=''.join(random.choices(string.digits, k = 9))\n",
        "  lis.append(hash(res))\n",
        "\n",
        "lis1 = [0 for g in range(300007)]\n",
        "for k in lis:\n",
        "  lis1[k]+=1\n",
        "lis2 = [m for m in range(300007)]\n",
        "\n",
        "plt.bar(lis2,lis1)\n",
        "\n",
        "print(lis1.count(1))\n",
        "print(lis1.count(0))\n",
        "print(max(lis1))\n",
        "meansum = 0\n",
        "for b in lis1:\n",
        "  meansum+=b\n",
        "meansum = meansum/(100000-lis1.count(0))"
      ]
    },
    {
      "cell_type": "code",
      "execution_count": null,
      "metadata": {
        "colab": {
          "base_uri": "https://localhost:8080/"
        },
        "id": "04L6MyFXgjrE",
        "outputId": "b665e663-43b9-4193-e226-a3aa71dcea2d"
      },
      "outputs": [
        {
          "output_type": "stream",
          "name": "stdout",
          "text": [
            "[1, 41, 1681, 68921, 125698, 53499, 93410, 229726, 118549, 60397]\n"
          ]
        }
      ],
      "source": [
        "l = [(41**n)%300007 for n in range(10)]\n",
        "print(l)"
      ]
    },
    {
      "cell_type": "code",
      "execution_count": null,
      "metadata": {
        "id": "HrUJPf9i8kc8"
      },
      "outputs": [],
      "source": []
    }
  ],
  "metadata": {
    "colab": {
      "provenance": [],
      "include_colab_link": true
    },
    "kernelspec": {
      "display_name": "Python 3",
      "name": "python3"
    },
    "language_info": {
      "name": "python"
    }
  },
  "nbformat": 4,
  "nbformat_minor": 0
}